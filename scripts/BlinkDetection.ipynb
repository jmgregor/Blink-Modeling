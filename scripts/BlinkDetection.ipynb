{
 "cells": [
  {
   "source": [
    "# Imaging Science Senior Project\n",
    "### Jared Gregor (jmg2586@rit.edu)\n",
    "The purpose of this Python Notebook is to provide a pipeline to allow for Blink modeling from eye tracking video. \n",
    "\n",
    "As video based eye trackers are becoming more common, eye tracking algorithms are becoming more complex to improve accuracy. Many of these algorithms utilize the pupil location to calculate other things such as gaze location. When a person makes a blink, the pupil is temporarily occluded, causing the algorithms to fail. Future algorithms may try to leverage the frames before a blink to accurately determine where the pupil will be after the blink. To do this, the blink needs to be quantified and modeled.\n",
    "\n",
    "All of the helper functions that were written by Jared are found in BlinkDetection_Functions.py"
   ],
   "cell_type": "markdown",
   "metadata": {}
  },
  {
   "cell_type": "code",
   "execution_count": 1,
   "metadata": {},
   "outputs": [],
   "source": [
    "import BlinkDetection_Functions"
   ]
  },
  {
   "source": [
    "## Evaluate Dataset\n",
    "It is useful to understand what the dataset you're working with is. For this project, I will be using the Gaze in Wild dataset. The function below makes a csv with the number of videos per trial for every person and every eye. The output csv is saved in 'data/outputs'. "
   ],
   "cell_type": "markdown",
   "metadata": {}
  },
  {
   "cell_type": "code",
   "execution_count": null,
   "metadata": {},
   "outputs": [],
   "source": [
    "# Get the number of videos per person per eye for all experiments in dataset\n",
    "dataset = '../data/giw-blink/'\n",
    "BlinkDetection_Functions.datasetStats(dataset) # Creates csv with number of videos in dataset"
   ]
  },
  {
   "source": [
    "In the raw dataset, all of the left eyes are rotated 180 degrees. \n",
    "\n",
    "To stay consistant while labeling, it is important that all of the labeled images are oriented in the same direction. Let's roatate all of the videos 180 degrees to fix this issue. \n",
    "\n",
    "It may be a bit more efficiant if instead of rotating all of the frames in each video, we only rotate the frames that will be used for labeling. If DeepLabCut was already used to extract frames, the second function below will rotate only those images. \n",
    "\n",
    "Note: Only use one or the other!"
   ],
   "cell_type": "markdown",
   "metadata": {}
  },
  {
   "cell_type": "code",
   "execution_count": null,
   "metadata": {},
   "outputs": [],
   "source": [
    "# Rotate the dataset videos 180 degrees\n",
    "# Not Recommended\n",
    "path_video = \"../data/giw-blink/left/Person_1_Trial_1\"\n",
    "path_video = \"J:/jmgre/Documents/Senior Project/data/giw-blink-unsorted/left\"\n",
    "BlinkDetection_Functions.rotateVideos(path_video)"
   ]
  },
  {
   "cell_type": "code",
   "execution_count": null,
   "metadata": {},
   "outputs": [],
   "source": [
    "# Rotate the DLC extracted frames 180 degrees\n",
    "path_frames = \"../DeepLabCut/DLC_10_01_20/10-01-20-P4T1L-2020-10-01/labeled-data\"\n",
    "BlinkDetection_Functions.rotateFrames(path_frames)"
   ]
  },
  {
   "source": [
    "We can also reorganize the data to combine all of the data into one place. This will give us a good variety of images to be labeled and will hopefully work well across people."
   ],
   "cell_type": "markdown",
   "metadata": {}
  },
  {
   "cell_type": "code",
   "execution_count": null,
   "metadata": {},
   "outputs": [],
   "source": [
    "path = 'J:/jmgre/Documents/Senior Project/data/giw-blink-unsorted'\n",
    "BlinkDetection_Functions.mixData(path)"
   ]
  },
  {
   "source": [
    "## Setup a DeepLabCut Project\n",
    "\n",
    "https://github.com/DeepLabCut/DeepLabCut\n",
    "\n",
    "DeepLabCut (DLC) is a toolbox for markerless pose estimation. In this project, we will be utilizing DLC to train a model that is capable of tracking the upper and lower eyelids in the GIW dataset. DLC has well documented pipelines on their website for how to train such a model."
   ],
   "cell_type": "markdown",
   "metadata": {}
  },
  {
   "cell_type": "code",
   "execution_count": 1,
   "metadata": {},
   "outputs": [],
   "source": [
    "import deeplabcut"
   ]
  },
  {
   "source": [
    "DLC can be ran entirely though a GUI, or each step can be ran as a Python function. In this project, both options are available.\n",
    "\n",
    "### Option 1: Run DLC entirely through the GUI"
   ],
   "cell_type": "markdown",
   "metadata": {}
  },
  {
   "cell_type": "code",
   "execution_count": 87,
   "metadata": {},
   "outputs": [
    {
     "output_type": "stream",
     "name": "stdout",
     "text": [
      "Created \"J:\\jmgre\\Documents\\Senior Project\\DeepLabCut\\BlinkModeling-GIW-2020-11-20\\videos\"\n",
      "Created \"J:\\jmgre\\Documents\\Senior Project\\DeepLabCut\\BlinkModeling-GIW-2020-11-20\\labeled-data\"\n",
      "Created \"J:\\jmgre\\Documents\\Senior Project\\DeepLabCut\\BlinkModeling-GIW-2020-11-20\\training-datasets\"\n",
      "Created \"J:\\jmgre\\Documents\\Senior Project\\DeepLabCut\\BlinkModeling-GIW-2020-11-20\\dlc-models\"\n",
      "Copying the videos\n",
      "J:\\jmgre\\Documents\\Senior Project\\DeepLabCut\\BlinkModeling-GIW-2020-11-20\\videos\\Person_1_Trial_1_Eye_0_Blink_2.avi\n",
      "J:\\jmgre\\Documents\\Senior Project\\DeepLabCut\\BlinkModeling-GIW-2020-11-20\\videos\\Person_1_Trial_2_Eye_0_Blink_14.avi\n",
      "J:\\jmgre\\Documents\\Senior Project\\DeepLabCut\\BlinkModeling-GIW-2020-11-20\\videos\\Person_2_Trial_1_Eye_1_Blink_43.avi\n",
      "J:\\jmgre\\Documents\\Senior Project\\DeepLabCut\\BlinkModeling-GIW-2020-11-20\\videos\\Person_2_Trial_2_Eye_1_Blink_56.avi\n",
      "J:\\jmgre\\Documents\\Senior Project\\DeepLabCut\\BlinkModeling-GIW-2020-11-20\\videos\\Person_2_Trial_3_Eye_0_Blink_8.avi\n",
      "J:\\jmgre\\Documents\\Senior Project\\DeepLabCut\\BlinkModeling-GIW-2020-11-20\\videos\\Person_2_Trial_3_Eye_1_Blink_66.avi\n",
      "J:\\jmgre\\Documents\\Senior Project\\DeepLabCut\\BlinkModeling-GIW-2020-11-20\\videos\\Person_3_Trial_2_Eye_0_Blink_5.avi\n",
      "J:\\jmgre\\Documents\\Senior Project\\DeepLabCut\\BlinkModeling-GIW-2020-11-20\\videos\\Person_3_Trial_2_Eye_1_Blink_4.avi\n",
      "J:\\jmgre\\Documents\\Senior Project\\DeepLabCut\\BlinkModeling-GIW-2020-11-20\\videos\\Person_4_Trial_1_Eye_0_Blink_4.avi\n",
      "J:\\jmgre\\Documents\\Senior Project\\DeepLabCut\\BlinkModeling-GIW-2020-11-20\\videos\\Person_4_Trial_1_Eye_1_Blink_117.avi\n",
      "J:\\jmgre\\Documents\\Senior Project\\DeepLabCut\\BlinkModeling-GIW-2020-11-20\\videos\\Person_6_Trial_1_Eye_1_Blink_2.avi\n",
      "J:\\jmgre\\Documents\\Senior Project\\DeepLabCut\\BlinkModeling-GIW-2020-11-20\\videos\\Person_6_Trial_2_Eye_0_Blink_2.avi\n",
      "J:\\jmgre\\Documents\\Senior Project\\DeepLabCut\\BlinkModeling-GIW-2020-11-20\\videos\\Person_6_Trial_2_Eye_1_Blink_2.avi\n",
      "J:\\jmgre\\Documents\\Senior Project\\DeepLabCut\\BlinkModeling-GIW-2020-11-20\\videos\\Person_8_Trial_1_Eye_0_Blink_5.avi\n",
      "J:\\jmgre\\Documents\\Senior Project\\DeepLabCut\\BlinkModeling-GIW-2020-11-20\\videos\\Person_8_Trial_2_Eye_0_Blink_34.avi\n",
      "J:\\jmgre\\Documents\\Senior Project\\DeepLabCut\\BlinkModeling-GIW-2020-11-20\\videos\\Person_8_Trial_2_Eye_1_Blink_42.avi\n",
      "J:\\jmgre\\Documents\\Senior Project\\DeepLabCut\\BlinkModeling-GIW-2020-11-20\\videos\\Person_8_Trial_3_Eye_0_Blink_3.avi\n",
      "J:\\jmgre\\Documents\\Senior Project\\DeepLabCut\\BlinkModeling-GIW-2020-11-20\\videos\\Person_8_Trial_3_Eye_1_Blink_44.avi\n",
      "J:\\jmgre\\Documents\\Senior Project\\DeepLabCut\\BlinkModeling-GIW-2020-11-20\\videos\\Person_9_Trial_1_Eye_0_Blink_63.avi\n",
      "J:\\jmgre\\Documents\\Senior Project\\DeepLabCut\\BlinkModeling-GIW-2020-11-20\\videos\\Person_9_Trial_1_Eye_1_Blink_27.avi\n",
      "J:\\jmgre\\Documents\\Senior Project\\DeepLabCut\\BlinkModeling-GIW-2020-11-20\\videos\\Person_9_Trial_2_Eye_0_Blink_19.avi\n",
      "J:\\jmgre\\Documents\\Senior Project\\DeepLabCut\\BlinkModeling-GIW-2020-11-20\\videos\\Person_9_Trial_2_Eye_1_Blink_50.avi\n",
      "J:\\jmgre\\Documents\\Senior Project\\DeepLabCut\\BlinkModeling-GIW-2020-11-20\\videos\\Person_10_Trial_1_Eye_0_Blink_10.avi\n",
      "J:\\jmgre\\Documents\\Senior Project\\DeepLabCut\\BlinkModeling-GIW-2020-11-20\\videos\\Person_10_Trial_1_Eye_1_Blink_5.avi\n",
      "J:\\jmgre\\Documents\\Senior Project\\DeepLabCut\\BlinkModeling-GIW-2020-11-20\\videos\\Person_12_Trial_1_Eye_0_Blink_18.avi\n",
      "J:\\jmgre\\Documents\\Senior Project\\DeepLabCut\\BlinkModeling-GIW-2020-11-20\\videos\\Person_12_Trial_1_Eye_1_Blink_72.avi\n",
      "J:\\jmgre\\Documents\\Senior Project\\DeepLabCut\\BlinkModeling-GIW-2020-11-20\\videos\\Person_12_Trial_2_Eye_0_Blink_21.avi\n",
      "J:\\jmgre\\Documents\\Senior Project\\DeepLabCut\\BlinkModeling-GIW-2020-11-20\\videos\\Person_12_Trial_2_Eye_1_Blink_10.avi\n",
      "J:\\jmgre\\Documents\\Senior Project\\DeepLabCut\\BlinkModeling-GIW-2020-11-20\\videos\\Person_12_Trial_3_Eye_0_Blink_15.avi\n",
      "J:\\jmgre\\Documents\\Senior Project\\DeepLabCut\\BlinkModeling-GIW-2020-11-20\\videos\\Person_12_Trial_3_Eye_1_Blink_8.avi\n",
      "J:\\jmgre\\Documents\\Senior Project\\DeepLabCut\\BlinkModeling-GIW-2020-11-20\\videos\\Person_12_Trial_4_Eye_0_Blink_16.avi\n",
      "J:\\jmgre\\Documents\\Senior Project\\DeepLabCut\\BlinkModeling-GIW-2020-11-20\\videos\\Person_12_Trial_4_Eye_1_Blink_31.avi\n",
      "J:\\jmgre\\Documents\\Senior Project\\DeepLabCut\\BlinkModeling-GIW-2020-11-20\\videos\\Person_15_Trial_3_Eye_0_Blink_11.avi\n",
      "J:\\jmgre\\Documents\\Senior Project\\DeepLabCut\\BlinkModeling-GIW-2020-11-20\\videos\\Person_15_Trial_3_Eye_1_Blink_7.avi\n",
      "J:\\jmgre\\Documents\\Senior Project\\DeepLabCut\\BlinkModeling-GIW-2020-11-20\\videos\\Person_16_Trial_1_Eye_0_Blink_38.avi\n",
      "J:\\jmgre\\Documents\\Senior Project\\DeepLabCut\\BlinkModeling-GIW-2020-11-20\\videos\\Person_16_Trial_1_Eye_1_Blink_26.avi\n",
      "J:\\jmgre\\Documents\\Senior Project\\DeepLabCut\\BlinkModeling-GIW-2020-11-20\\videos\\Person_16_Trial_2_Eye_0_Blink_16.avi\n",
      "J:\\jmgre\\Documents\\Senior Project\\DeepLabCut\\BlinkModeling-GIW-2020-11-20\\videos\\Person_16_Trial_2_Eye_1_Blink_24.avi\n",
      "J:\\jmgre\\Documents\\Senior Project\\DeepLabCut\\BlinkModeling-GIW-2020-11-20\\videos\\Person_17_Trial_1_Eye_0_Blink_4.avi\n",
      "J:\\jmgre\\Documents\\Senior Project\\DeepLabCut\\BlinkModeling-GIW-2020-11-20\\videos\\Person_17_Trial_1_Eye_1_Blink_3.avi\n",
      "J:\\jmgre\\Documents\\Senior Project\\DeepLabCut\\BlinkModeling-GIW-2020-11-20\\videos\\Person_17_Trial_2_Eye_0_Blink_24.avi\n",
      "J:\\jmgre\\Documents\\Senior Project\\DeepLabCut\\BlinkModeling-GIW-2020-11-20\\videos\\Person_17_Trial_3_Eye_1_Blink_5.avi\n",
      "J:\\jmgre\\Documents\\Senior Project\\DeepLabCut\\BlinkModeling-GIW-2020-11-20\\videos\\Person_18_Trial_1_Eye_0_Blink_32.avi\n",
      "J:\\jmgre\\Documents\\Senior Project\\DeepLabCut\\BlinkModeling-GIW-2020-11-20\\videos\\Person_18_Trial_1_Eye_1_Blink_43.avi\n",
      "J:\\jmgre\\Documents\\Senior Project\\DeepLabCut\\BlinkModeling-GIW-2020-11-20\\videos\\Person_18_Trial_4_Eye_0_Blink_7.avi\n",
      "J:\\jmgre\\Documents\\Senior Project\\DeepLabCut\\BlinkModeling-GIW-2020-11-20\\videos\\Person_18_Trial_4_Eye_1_Blink_7.avi\n",
      "J:\\jmgre\\Documents\\Senior Project\\DeepLabCut\\BlinkModeling-GIW-2020-11-20\\videos\\Person_19_Trial_2_Eye_0_Blink_3.avi\n",
      "J:\\jmgre\\Documents\\Senior Project\\DeepLabCut\\BlinkModeling-GIW-2020-11-20\\videos\\Person_19_Trial_2_Eye_1_Blink_16.avi\n",
      "J:\\jmgre\\Documents\\Senior Project\\DeepLabCut\\BlinkModeling-GIW-2020-11-20\\videos\\Person_19_Trial_3_Eye_0_Blink_14.avi\n",
      "J:\\jmgre\\Documents\\Senior Project\\DeepLabCut\\BlinkModeling-GIW-2020-11-20\\videos\\Person_19_Trial_3_Eye_1_Blink_7.avi\n",
      "J:\\jmgre\\Documents\\Senior Project\\DeepLabCut\\BlinkModeling-GIW-2020-11-20\\videos\\Person_20_Trial_1_Eye_0_Blink_35.avi\n",
      "J:\\jmgre\\Documents\\Senior Project\\DeepLabCut\\BlinkModeling-GIW-2020-11-20\\videos\\Person_20_Trial_3_Eye_0_Blink_22.avi\n",
      "J:\\jmgre\\Documents\\Senior Project\\DeepLabCut\\BlinkModeling-GIW-2020-11-20\\videos\\Person_20_Trial_3_Eye_1_Blink_20.avi\n",
      "J:\\jmgre\\Documents\\Senior Project\\DeepLabCut\\BlinkModeling-GIW-2020-11-20\\videos\\Person_22_Trial_3_Eye_1_Blink_92.avi\n",
      "J:\\jmgre\\Documents\\Senior Project\\DeepLabCut\\BlinkModeling-GIW-2020-11-20\\videos\\Person_22_Trial_4_Eye_1_Blink_31.avi\n",
      "Generated \"J:\\jmgre\\Documents\\Senior Project\\DeepLabCut\\BlinkModeling-GIW-2020-11-20\\config.yaml\"\n",
      "\n",
      "A new project with name BlinkModeling-GIW-2020-11-20 is created at J:\\jmgre\\Documents\\Senior Project\\DeepLabCut and a configurable file (config.yaml) is stored there. Change the parameters in this file to adapt to your project's needs.\n",
      " Once you have changed the configuration file, use the function 'extract_frames' to select frames for labeling.\n",
      ". [OPTIONAL] Use the function 'add_new_videos' to add new videos to your project (at any stage).\n",
      "Project \"J:\\jmgre\\Documents\\Senior Project\\DeepLabCut\\BlinkModeling-GIW-2020-11-20\" already exists!\n"
     ]
    },
    {
     "output_type": "error",
     "ename": "TypeError",
     "evalue": "expected str, bytes or os.PathLike object, not NoneType",
     "traceback": [
      "\u001b[1;31m---------------------------------------------------------------------------\u001b[0m",
      "\u001b[1;31mTypeError\u001b[0m                                 Traceback (most recent call last)",
      "\u001b[1;32m~\\anaconda3\\envs\\DLC-GPU\\lib\\site-packages\\deeplabcut\\gui\\create_new_project.py\u001b[0m in \u001b[0;36mcreate_new_project\u001b[1;34m(self, event)\u001b[0m\n\u001b[0;32m    391\u001b[0m         \u001b[1;32mif\u001b[0m \u001b[0mself\u001b[0m\u001b[1;33m.\u001b[0m\u001b[0mloaded\u001b[0m\u001b[1;33m:\u001b[0m\u001b[1;33m\u001b[0m\u001b[1;33m\u001b[0m\u001b[0m\n\u001b[0;32m    392\u001b[0m             \u001b[0mself\u001b[0m\u001b[1;33m.\u001b[0m\u001b[0medit_config_file\u001b[0m\u001b[1;33m.\u001b[0m\u001b[0mEnable\u001b[0m\u001b[1;33m(\u001b[0m\u001b[1;32mTrue\u001b[0m\u001b[1;33m)\u001b[0m\u001b[1;33m\u001b[0m\u001b[1;33m\u001b[0m\u001b[0m\n\u001b[1;32m--> 393\u001b[1;33m             \u001b[0mcfg\u001b[0m \u001b[1;33m=\u001b[0m \u001b[0mauxiliaryfunctions\u001b[0m\u001b[1;33m.\u001b[0m\u001b[0mread_config\u001b[0m\u001b[1;33m(\u001b[0m\u001b[0mself\u001b[0m\u001b[1;33m.\u001b[0m\u001b[0mcfg\u001b[0m\u001b[1;33m)\u001b[0m\u001b[1;33m\u001b[0m\u001b[1;33m\u001b[0m\u001b[0m\n\u001b[0m\u001b[0;32m    394\u001b[0m             \u001b[1;32mif\u001b[0m \u001b[0mself\u001b[0m\u001b[1;33m.\u001b[0m\u001b[0mparent\u001b[0m\u001b[1;33m.\u001b[0m\u001b[0mGetPageCount\u001b[0m\u001b[1;33m(\u001b[0m\u001b[1;33m)\u001b[0m \u001b[1;33m<\u001b[0m \u001b[1;36m3\u001b[0m\u001b[1;33m:\u001b[0m\u001b[1;33m\u001b[0m\u001b[1;33m\u001b[0m\u001b[0m\n\u001b[0;32m    395\u001b[0m                 \u001b[0mpage3\u001b[0m \u001b[1;33m=\u001b[0m \u001b[0mExtract_frames\u001b[0m\u001b[1;33m(\u001b[0m\u001b[0mself\u001b[0m\u001b[1;33m.\u001b[0m\u001b[0mparent\u001b[0m\u001b[1;33m,\u001b[0m \u001b[0mself\u001b[0m\u001b[1;33m.\u001b[0m\u001b[0mgui_size\u001b[0m\u001b[1;33m,\u001b[0m \u001b[0mself\u001b[0m\u001b[1;33m.\u001b[0m\u001b[0mcfg\u001b[0m\u001b[1;33m)\u001b[0m\u001b[1;33m\u001b[0m\u001b[1;33m\u001b[0m\u001b[0m\n",
      "\u001b[1;32m~\\anaconda3\\envs\\DLC-GPU\\lib\\site-packages\\deeplabcut\\utils\\auxiliaryfunctions.py\u001b[0m in \u001b[0;36mread_config\u001b[1;34m(configname)\u001b[0m\n\u001b[0;32m    163\u001b[0m     \"\"\"\n\u001b[0;32m    164\u001b[0m     \u001b[0mruamelFile\u001b[0m \u001b[1;33m=\u001b[0m \u001b[0mYAML\u001b[0m\u001b[1;33m(\u001b[0m\u001b[1;33m)\u001b[0m\u001b[1;33m\u001b[0m\u001b[1;33m\u001b[0m\u001b[0m\n\u001b[1;32m--> 165\u001b[1;33m     \u001b[0mpath\u001b[0m \u001b[1;33m=\u001b[0m \u001b[0mPath\u001b[0m\u001b[1;33m(\u001b[0m\u001b[0mconfigname\u001b[0m\u001b[1;33m)\u001b[0m\u001b[1;33m\u001b[0m\u001b[1;33m\u001b[0m\u001b[0m\n\u001b[0m\u001b[0;32m    166\u001b[0m     \u001b[1;32mif\u001b[0m \u001b[0mos\u001b[0m\u001b[1;33m.\u001b[0m\u001b[0mpath\u001b[0m\u001b[1;33m.\u001b[0m\u001b[0mexists\u001b[0m\u001b[1;33m(\u001b[0m\u001b[0mpath\u001b[0m\u001b[1;33m)\u001b[0m\u001b[1;33m:\u001b[0m\u001b[1;33m\u001b[0m\u001b[1;33m\u001b[0m\u001b[0m\n\u001b[0;32m    167\u001b[0m         \u001b[1;32mtry\u001b[0m\u001b[1;33m:\u001b[0m\u001b[1;33m\u001b[0m\u001b[1;33m\u001b[0m\u001b[0m\n",
      "\u001b[1;32m~\\anaconda3\\envs\\DLC-GPU\\lib\\pathlib.py\u001b[0m in \u001b[0;36m__new__\u001b[1;34m(cls, *args, **kwargs)\u001b[0m\n\u001b[0;32m   1020\u001b[0m         \u001b[1;32mif\u001b[0m \u001b[0mcls\u001b[0m \u001b[1;32mis\u001b[0m \u001b[0mPath\u001b[0m\u001b[1;33m:\u001b[0m\u001b[1;33m\u001b[0m\u001b[1;33m\u001b[0m\u001b[0m\n\u001b[0;32m   1021\u001b[0m             \u001b[0mcls\u001b[0m \u001b[1;33m=\u001b[0m \u001b[0mWindowsPath\u001b[0m \u001b[1;32mif\u001b[0m \u001b[0mos\u001b[0m\u001b[1;33m.\u001b[0m\u001b[0mname\u001b[0m \u001b[1;33m==\u001b[0m \u001b[1;34m'nt'\u001b[0m \u001b[1;32melse\u001b[0m \u001b[0mPosixPath\u001b[0m\u001b[1;33m\u001b[0m\u001b[1;33m\u001b[0m\u001b[0m\n\u001b[1;32m-> 1022\u001b[1;33m         \u001b[0mself\u001b[0m \u001b[1;33m=\u001b[0m \u001b[0mcls\u001b[0m\u001b[1;33m.\u001b[0m\u001b[0m_from_parts\u001b[0m\u001b[1;33m(\u001b[0m\u001b[0margs\u001b[0m\u001b[1;33m,\u001b[0m \u001b[0minit\u001b[0m\u001b[1;33m=\u001b[0m\u001b[1;32mFalse\u001b[0m\u001b[1;33m)\u001b[0m\u001b[1;33m\u001b[0m\u001b[1;33m\u001b[0m\u001b[0m\n\u001b[0m\u001b[0;32m   1023\u001b[0m         \u001b[1;32mif\u001b[0m \u001b[1;32mnot\u001b[0m \u001b[0mself\u001b[0m\u001b[1;33m.\u001b[0m\u001b[0m_flavour\u001b[0m\u001b[1;33m.\u001b[0m\u001b[0mis_supported\u001b[0m\u001b[1;33m:\u001b[0m\u001b[1;33m\u001b[0m\u001b[1;33m\u001b[0m\u001b[0m\n\u001b[0;32m   1024\u001b[0m             raise NotImplementedError(\"cannot instantiate %r on your system\"\n",
      "\u001b[1;32m~\\anaconda3\\envs\\DLC-GPU\\lib\\pathlib.py\u001b[0m in \u001b[0;36m_from_parts\u001b[1;34m(cls, args, init)\u001b[0m\n\u001b[0;32m    667\u001b[0m         \u001b[1;31m# right flavour.\u001b[0m\u001b[1;33m\u001b[0m\u001b[1;33m\u001b[0m\u001b[1;33m\u001b[0m\u001b[0m\n\u001b[0;32m    668\u001b[0m         \u001b[0mself\u001b[0m \u001b[1;33m=\u001b[0m \u001b[0mobject\u001b[0m\u001b[1;33m.\u001b[0m\u001b[0m__new__\u001b[0m\u001b[1;33m(\u001b[0m\u001b[0mcls\u001b[0m\u001b[1;33m)\u001b[0m\u001b[1;33m\u001b[0m\u001b[1;33m\u001b[0m\u001b[0m\n\u001b[1;32m--> 669\u001b[1;33m         \u001b[0mdrv\u001b[0m\u001b[1;33m,\u001b[0m \u001b[0mroot\u001b[0m\u001b[1;33m,\u001b[0m \u001b[0mparts\u001b[0m \u001b[1;33m=\u001b[0m \u001b[0mself\u001b[0m\u001b[1;33m.\u001b[0m\u001b[0m_parse_args\u001b[0m\u001b[1;33m(\u001b[0m\u001b[0margs\u001b[0m\u001b[1;33m)\u001b[0m\u001b[1;33m\u001b[0m\u001b[1;33m\u001b[0m\u001b[0m\n\u001b[0m\u001b[0;32m    670\u001b[0m         \u001b[0mself\u001b[0m\u001b[1;33m.\u001b[0m\u001b[0m_drv\u001b[0m \u001b[1;33m=\u001b[0m \u001b[0mdrv\u001b[0m\u001b[1;33m\u001b[0m\u001b[1;33m\u001b[0m\u001b[0m\n\u001b[0;32m    671\u001b[0m         \u001b[0mself\u001b[0m\u001b[1;33m.\u001b[0m\u001b[0m_root\u001b[0m \u001b[1;33m=\u001b[0m \u001b[0mroot\u001b[0m\u001b[1;33m\u001b[0m\u001b[1;33m\u001b[0m\u001b[0m\n",
      "\u001b[1;32m~\\anaconda3\\envs\\DLC-GPU\\lib\\pathlib.py\u001b[0m in \u001b[0;36m_parse_args\u001b[1;34m(cls, args)\u001b[0m\n\u001b[0;32m    651\u001b[0m                 \u001b[0mparts\u001b[0m \u001b[1;33m+=\u001b[0m \u001b[0ma\u001b[0m\u001b[1;33m.\u001b[0m\u001b[0m_parts\u001b[0m\u001b[1;33m\u001b[0m\u001b[1;33m\u001b[0m\u001b[0m\n\u001b[0;32m    652\u001b[0m             \u001b[1;32melse\u001b[0m\u001b[1;33m:\u001b[0m\u001b[1;33m\u001b[0m\u001b[1;33m\u001b[0m\u001b[0m\n\u001b[1;32m--> 653\u001b[1;33m                 \u001b[0ma\u001b[0m \u001b[1;33m=\u001b[0m \u001b[0mos\u001b[0m\u001b[1;33m.\u001b[0m\u001b[0mfspath\u001b[0m\u001b[1;33m(\u001b[0m\u001b[0ma\u001b[0m\u001b[1;33m)\u001b[0m\u001b[1;33m\u001b[0m\u001b[1;33m\u001b[0m\u001b[0m\n\u001b[0m\u001b[0;32m    654\u001b[0m                 \u001b[1;32mif\u001b[0m \u001b[0misinstance\u001b[0m\u001b[1;33m(\u001b[0m\u001b[0ma\u001b[0m\u001b[1;33m,\u001b[0m \u001b[0mstr\u001b[0m\u001b[1;33m)\u001b[0m\u001b[1;33m:\u001b[0m\u001b[1;33m\u001b[0m\u001b[1;33m\u001b[0m\u001b[0m\n\u001b[0;32m    655\u001b[0m                     \u001b[1;31m# Force-cast str subclasses to str (issue #21127)\u001b[0m\u001b[1;33m\u001b[0m\u001b[1;33m\u001b[0m\u001b[1;33m\u001b[0m\u001b[0m\n",
      "\u001b[1;31mTypeError\u001b[0m: expected str, bytes or os.PathLike object, not NoneType"
     ]
    }
   ],
   "source": [
    "deeplabcut.launch_dlc()"
   ]
  },
  {
   "source": [
    "### Option 2: Create new DLC project"
   ],
   "cell_type": "markdown",
   "metadata": {}
  },
  {
   "cell_type": "code",
   "execution_count": null,
   "metadata": {},
   "outputs": [],
   "source": [
    "task = 'blink' # Enter the name of your experiment Task\n",
    "experimenter = 'p1e0t1' # Enter the name of the experimenter\n",
    "video = [\"/../data/giw-blink/right/Person_1_Trial_1/\"] # Enter the path of the folder to grab frames from\n",
    "\n",
    "path_config_file = deeplabcut.create_new_project(task,experimenter,video,copy_videos=True,working_directory='../DeepLabCut') "
   ]
  },
  {
   "source": [
    "### Option 3: Open an existing DLC project"
   ],
   "cell_type": "markdown",
   "metadata": {}
  },
  {
   "cell_type": "code",
   "execution_count": 2,
   "metadata": {},
   "outputs": [],
   "source": [
    "path_config_file = \"/../DeepLabCut/blink-p1e0t1-2020-11-19/config.yaml\" # Enter the path to the project YAML file\n",
    "path_config_file = \"J:/jmgre/Documents/Senior Project/DeepLabCut/BlinkModeling-GIW-2020-11-20/config.yaml\""
   ]
  },
  {
   "source": [
    "## Edit the config.yaml file\n",
    "Now with the project created, the config.yaml file needs to be edited. In this file define the number of frames to be extracted, body part labels, etc. The body part labels are the points that get selected for labeling. In this project, body part labels will be all the points on the upper and lower eyelids to be selected. \n",
    "\n",
    "More information about our specific labeling scheme can be found here: \n",
    "https://docs.google.com/document/d/1dg3mrVQUD0TRQfZFkRGLiroeJcudWhvhZFnq21o9jFs/edit?usp=sharing\n"
   ],
   "cell_type": "markdown",
   "metadata": {}
  },
  {
   "source": [
    "## Extract Frames from videos\n",
    "Frames need to be extracted from the dataset videos to be labeled. DLC's default frame selection is to use kmeans. \n",
    "\n",
    "DeepLabCut offers several options as to how these frames will be selected. To see these options, add a '?' after the function.\n",
    "\n",
    "deeplabcut.extract_frames?"
   ],
   "cell_type": "markdown",
   "metadata": {}
  },
  {
   "cell_type": "code",
   "execution_count": 3,
   "metadata": {
    "tags": [
     "outputPrepend"
    ]
   },
   "outputs": [
    {
     "output_type": "stream",
     "name": "stdout",
     "text": [
      "nkModeling-GIW-2020-11-20\\videos\\Person_6_Trial_1_Eye_1_Blink_2.avi ?\n",
      "46it [00:00, 344.20it/s]Extracting frames based on kmeans ...\n",
      "Kmeans-quantization based extracting of frames from 0.0  seconds to 0.15  seconds.\n",
      "Extracting and downsampling... 46  frames from the video.\n",
      "Kmeans clustering ... (this might take a while)\n",
      "\n",
      "Do you want to extract (perhaps additional) frames for video: J:\\jmgre\\Documents\\Senior Project\\DeepLabCut\\BlinkModeling-GIW-2020-11-20\\videos\\Person_6_Trial_2_Eye_0_Blink_2.avi ?\n",
      "40it [00:00, 353.34it/s]Extracting frames based on kmeans ...\n",
      "Kmeans-quantization based extracting of frames from 0.0  seconds to 0.13  seconds.\n",
      "Extracting and downsampling... 40  frames from the video.\n",
      "Kmeans clustering ... (this might take a while)\n",
      "\n",
      "Do you want to extract (perhaps additional) frames for video: J:\\jmgre\\Documents\\Senior Project\\DeepLabCut\\BlinkModeling-GIW-2020-11-20\\videos\\Person_6_Trial_2_Eye_1_Blink_2.avi ?\n",
      "40it [00:00, 354.93it/s]Extracting frames based on kmeans ...\n",
      "Kmeans-quantization based extracting of frames from 0.0  seconds to 0.13  seconds.\n",
      "Extracting and downsampling... 40  frames from the video.\n",
      "Kmeans clustering ... (this might take a while)\n",
      "\n",
      "Do you want to extract (perhaps additional) frames for video: J:\\jmgre\\Documents\\Senior Project\\DeepLabCut\\BlinkModeling-GIW-2020-11-20\\videos\\Person_8_Trial_1_Eye_0_Blink_5.avi ?\n",
      "53it [00:00, 354.28it/s]Extracting frames based on kmeans ...\n",
      "Kmeans-quantization based extracting of frames from 0.0  seconds to 0.18  seconds.\n",
      "Extracting and downsampling... 53  frames from the video.\n",
      "Kmeans clustering ... (this might take a while)\n",
      "\n",
      "Do you want to extract (perhaps additional) frames for video: J:\\jmgre\\Documents\\Senior Project\\DeepLabCut\\BlinkModeling-GIW-2020-11-20\\videos\\Person_8_Trial_2_Eye_0_Blink_34.avi ?\n",
      "50it [00:00, 346.93it/s]Extracting frames based on kmeans ...\n",
      "Kmeans-quantization based extracting of frames from 0.0  seconds to 0.17  seconds.\n",
      "Extracting and downsampling... 50  frames from the video.\n",
      "Kmeans clustering ... (this might take a while)\n",
      "\n",
      "Do you want to extract (perhaps additional) frames for video: J:\\jmgre\\Documents\\Senior Project\\DeepLabCut\\BlinkModeling-GIW-2020-11-20\\videos\\Person_8_Trial_2_Eye_1_Blink_42.avi ?\n",
      "46it [00:00, 371.96it/s]Extracting frames based on kmeans ...\n",
      "Kmeans-quantization based extracting of frames from 0.0  seconds to 0.15  seconds.\n",
      "Extracting and downsampling... 46  frames from the video.\n",
      "Kmeans clustering ... (this might take a while)\n",
      "\n",
      "Do you want to extract (perhaps additional) frames for video: J:\\jmgre\\Documents\\Senior Project\\DeepLabCut\\BlinkModeling-GIW-2020-11-20\\videos\\Person_8_Trial_3_Eye_0_Blink_3.avi ?\n",
      "60it [00:00, 360.24it/s]Extracting frames based on kmeans ...\n",
      "Kmeans-quantization based extracting of frames from 0.0  seconds to 0.2  seconds.\n",
      "Extracting and downsampling... 60  frames from the video.\n",
      "Kmeans clustering ... (this might take a while)\n",
      "\n",
      "Do you want to extract (perhaps additional) frames for video: J:\\jmgre\\Documents\\Senior Project\\DeepLabCut\\BlinkModeling-GIW-2020-11-20\\videos\\Person_8_Trial_3_Eye_1_Blink_44.avi ?\n",
      "36it [00:00, 353.89it/s]Extracting frames based on kmeans ...\n",
      "Kmeans-quantization based extracting of frames from 0.0  seconds to 0.29  seconds.\n",
      "Extracting and downsampling... 87  frames from the video.\n",
      "87it [00:00, 310.44it/s]\n",
      "Kmeans clustering ... (this might take a while)\n",
      "Do you want to extract (perhaps additional) frames for video: J:\\jmgre\\Documents\\Senior Project\\DeepLabCut\\BlinkModeling-GIW-2020-11-20\\videos\\Person_9_Trial_1_Eye_0_Blink_63.avi ?\n",
      "37it [00:00, 367.32it/s]Extracting frames based on kmeans ...\n",
      "Kmeans-quantization based extracting of frames from 0.0  seconds to 0.29  seconds.\n",
      "Extracting and downsampling... 87  frames from the video.\n",
      "87it [00:00, 364.99it/s]\n",
      "Kmeans clustering ... (this might take a while)\n",
      "Do you want to extract (perhaps additional) frames for video: J:\\jmgre\\Documents\\Senior Project\\DeepLabCut\\BlinkModeling-GIW-2020-11-20\\videos\\Person_9_Trial_1_Eye_1_Blink_27.avi ?\n",
      "36it [00:00, 357.39it/s]Extracting frames based on kmeans ...\n",
      "Kmeans-quantization based extracting of frames from 0.0  seconds to 0.25  seconds.\n",
      "Extracting and downsampling... 76  frames from the video.\n",
      "76it [00:00, 366.36it/s]\n",
      "Kmeans clustering ... (this might take a while)\n",
      "Do you want to extract (perhaps additional) frames for video: J:\\jmgre\\Documents\\Senior Project\\DeepLabCut\\BlinkModeling-GIW-2020-11-20\\videos\\Person_9_Trial_2_Eye_0_Blink_19.avi ?\n",
      "47it [00:00, 345.23it/s]Extracting frames based on kmeans ...\n",
      "Kmeans-quantization based extracting of frames from 0.0  seconds to 0.16  seconds.\n",
      "Extracting and downsampling... 47  frames from the video.\n",
      "Kmeans clustering ... (this might take a while)\n",
      "\n",
      "Do you want to extract (perhaps additional) frames for video: J:\\jmgre\\Documents\\Senior Project\\DeepLabCut\\BlinkModeling-GIW-2020-11-20\\videos\\Person_9_Trial_2_Eye_1_Blink_50.avi ?\n",
      "38it [00:00, 374.29it/s]Extracting frames based on kmeans ...\n",
      "Kmeans-quantization based extracting of frames from 0.0  seconds to 0.45  seconds.\n",
      "Extracting and downsampling... 135  frames from the video.\n",
      "135it [00:00, 367.03it/s]\n",
      "Kmeans clustering ... (this might take a while)\n",
      "Do you want to extract (perhaps additional) frames for video: J:\\jmgre\\Documents\\Senior Project\\DeepLabCut\\BlinkModeling-GIW-2020-11-20\\videos\\Person_10_Trial_1_Eye_0_Blink_10.avi ?\n",
      "38it [00:00, 369.92it/s]Extracting frames based on kmeans ...\n",
      "Kmeans-quantization based extracting of frames from 0.0  seconds to 0.24  seconds.\n",
      "Extracting and downsampling... 73  frames from the video.\n",
      "73it [00:00, 364.15it/s]\n",
      "Kmeans clustering ... (this might take a while)\n",
      "Do you want to extract (perhaps additional) frames for video: J:\\jmgre\\Documents\\Senior Project\\DeepLabCut\\BlinkModeling-GIW-2020-11-20\\videos\\Person_10_Trial_1_Eye_1_Blink_5.avi ?\n",
      "31it [00:00, 306.21it/s]Extracting frames based on kmeans ...\n",
      "Kmeans-quantization based extracting of frames from 0.0  seconds to 0.26  seconds.\n",
      "Extracting and downsampling... 77  frames from the video.\n",
      "77it [00:00, 333.49it/s]\n",
      "Kmeans clustering ... (this might take a while)\n",
      "Do you want to extract (perhaps additional) frames for video: J:\\jmgre\\Documents\\Senior Project\\DeepLabCut\\BlinkModeling-GIW-2020-11-20\\videos\\Person_12_Trial_1_Eye_0_Blink_18.avi ?\n",
      "59it [00:00, 374.42it/s]Extracting frames based on kmeans ...\n",
      "Kmeans-quantization based extracting of frames from 0.0  seconds to 0.2  seconds.\n",
      "Extracting and downsampling... 59  frames from the video.\n",
      "Kmeans clustering ... (this might take a while)\n",
      "\n",
      "Do you want to extract (perhaps additional) frames for video: J:\\jmgre\\Documents\\Senior Project\\DeepLabCut\\BlinkModeling-GIW-2020-11-20\\videos\\Person_12_Trial_1_Eye_1_Blink_72.avi ?\n",
      "64it [00:00, 371.99it/s]Extracting frames based on kmeans ...\n",
      "Kmeans-quantization based extracting of frames from 0.0  seconds to 0.21  seconds.\n",
      "Extracting and downsampling... 64  frames from the video.\n",
      "\n",
      "Kmeans clustering ... (this might take a while)\n",
      "Do you want to extract (perhaps additional) frames for video: J:\\jmgre\\Documents\\Senior Project\\DeepLabCut\\BlinkModeling-GIW-2020-11-20\\videos\\Person_12_Trial_2_Eye_0_Blink_21.avi ?\n",
      "59it [00:00, 367.44it/s]Extracting frames based on kmeans ...\n",
      "Kmeans-quantization based extracting of frames from 0.0  seconds to 0.2  seconds.\n",
      "Extracting and downsampling... 59  frames from the video.\n",
      "Kmeans clustering ... (this might take a while)\n",
      "\n",
      "Do you want to extract (perhaps additional) frames for video: J:\\jmgre\\Documents\\Senior Project\\DeepLabCut\\BlinkModeling-GIW-2020-11-20\\videos\\Person_12_Trial_2_Eye_1_Blink_10.avi ?\n",
      "63it [00:00, 385.17it/s]Extracting frames based on kmeans ...\n",
      "Kmeans-quantization based extracting of frames from 0.0  seconds to 0.21  seconds.\n",
      "Extracting and downsampling... 63  frames from the video.\n",
      "Kmeans clustering ... (this might take a while)\n",
      "\n",
      "Do you want to extract (perhaps additional) frames for video: J:\\jmgre\\Documents\\Senior Project\\DeepLabCut\\BlinkModeling-GIW-2020-11-20\\videos\\Person_12_Trial_3_Eye_0_Blink_15.avi ?\n",
      "54it [00:00, 369.87it/s]Extracting frames based on kmeans ...\n",
      "Kmeans-quantization based extracting of frames from 0.0  seconds to 0.18  seconds.\n",
      "Extracting and downsampling... 54  frames from the video.\n",
      "Kmeans clustering ... (this might take a while)\n",
      "\n",
      "Do you want to extract (perhaps additional) frames for video: J:\\jmgre\\Documents\\Senior Project\\DeepLabCut\\BlinkModeling-GIW-2020-11-20\\videos\\Person_12_Trial_3_Eye_1_Blink_8.avi ?\n",
      "60it [00:00, 364.82it/s]Extracting frames based on kmeans ...\n",
      "Kmeans-quantization based extracting of frames from 0.0  seconds to 0.2  seconds.\n",
      "Extracting and downsampling... 60  frames from the video.\n",
      "Kmeans clustering ... (this might take a while)\n",
      "\n",
      "Do you want to extract (perhaps additional) frames for video: J:\\jmgre\\Documents\\Senior Project\\DeepLabCut\\BlinkModeling-GIW-2020-11-20\\videos\\Person_12_Trial_4_Eye_0_Blink_16.avi ?\n",
      "59it [00:00, 379.22it/s]Extracting frames based on kmeans ...\n",
      "Kmeans-quantization based extracting of frames from 0.0  seconds to 0.2  seconds.\n",
      "Extracting and downsampling... 59  frames from the video.\n",
      "Kmeans clustering ... (this might take a while)\n",
      "\n",
      "Do you want to extract (perhaps additional) frames for video: J:\\jmgre\\Documents\\Senior Project\\DeepLabCut\\BlinkModeling-GIW-2020-11-20\\videos\\Person_12_Trial_4_Eye_1_Blink_31.avi ?\n",
      "41it [00:00, 321.24it/s]Extracting frames based on kmeans ...\n",
      "Kmeans-quantization based extracting of frames from 0.0  seconds to 0.14  seconds.\n",
      "Extracting and downsampling... 41  frames from the video.\n",
      "Kmeans clustering ... (this might take a while)\n",
      "\n",
      "Do you want to extract (perhaps additional) frames for video: J:\\jmgre\\Documents\\Senior Project\\DeepLabCut\\BlinkModeling-GIW-2020-11-20\\videos\\Person_15_Trial_3_Eye_0_Blink_11.avi ?\n",
      "57it [00:00, 359.45it/s]Extracting frames based on kmeans ...\n",
      "Kmeans-quantization based extracting of frames from 0.0  seconds to 0.19  seconds.\n",
      "Extracting and downsampling... 57  frames from the video.\n",
      "Kmeans clustering ... (this might take a while)\n",
      "\n",
      "Do you want to extract (perhaps additional) frames for video: J:\\jmgre\\Documents\\Senior Project\\DeepLabCut\\BlinkModeling-GIW-2020-11-20\\videos\\Person_15_Trial_3_Eye_1_Blink_7.avi ?\n",
      "37it [00:00, 343.51it/s]Extracting frames based on kmeans ...\n",
      "Kmeans-quantization based extracting of frames from 0.0  seconds to 0.12  seconds.\n",
      "Extracting and downsampling... 37  frames from the video.\n",
      "Kmeans clustering ... (this might take a while)\n",
      "\n",
      "Do you want to extract (perhaps additional) frames for video: J:\\jmgre\\Documents\\Senior Project\\DeepLabCut\\BlinkModeling-GIW-2020-11-20\\videos\\Person_16_Trial_1_Eye_0_Blink_38.avi ?\n",
      "49it [00:00, 377.93it/s]Extracting frames based on kmeans ...\n",
      "Kmeans-quantization based extracting of frames from 0.0  seconds to 0.16  seconds.\n",
      "Extracting and downsampling... 49  frames from the video.\n",
      "Kmeans clustering ... (this might take a while)\n",
      "\n",
      "Do you want to extract (perhaps additional) frames for video: J:\\jmgre\\Documents\\Senior Project\\DeepLabCut\\BlinkModeling-GIW-2020-11-20\\videos\\Person_16_Trial_1_Eye_1_Blink_26.avi ?\n",
      "39it [00:00, 383.38it/s]Extracting frames based on kmeans ...\n",
      "Kmeans-quantization based extracting of frames from 0.0  seconds to 0.27  seconds.\n",
      "Extracting and downsampling... 80  frames from the video.\n",
      "80it [00:00, 376.59it/s]\n",
      "Kmeans clustering ... (this might take a while)\n",
      "Do you want to extract (perhaps additional) frames for video: J:\\jmgre\\Documents\\Senior Project\\DeepLabCut\\BlinkModeling-GIW-2020-11-20\\videos\\Person_16_Trial_2_Eye_0_Blink_16.avi ?\n",
      "42it [00:00, 348.03it/s]Extracting frames based on kmeans ...\n",
      "Kmeans-quantization based extracting of frames from 0.0  seconds to 0.14  seconds.\n",
      "Extracting and downsampling... 42  frames from the video.\n",
      "Kmeans clustering ... (this might take a while)\n",
      "\n",
      "Do you want to extract (perhaps additional) frames for video: J:\\jmgre\\Documents\\Senior Project\\DeepLabCut\\BlinkModeling-GIW-2020-11-20\\videos\\Person_16_Trial_2_Eye_1_Blink_24.avi ?\n",
      "37it [00:00, 367.32it/s]Extracting frames based on kmeans ...\n",
      "Kmeans-quantization based extracting of frames from 0.0  seconds to 0.22  seconds.\n",
      "Extracting and downsampling... 67  frames from the video.\n",
      "67it [00:00, 367.10it/s]\n",
      "Kmeans clustering ... (this might take a while)\n",
      "Do you want to extract (perhaps additional) frames for video: J:\\jmgre\\Documents\\Senior Project\\DeepLabCut\\BlinkModeling-GIW-2020-11-20\\videos\\Person_17_Trial_1_Eye_0_Blink_4.avi ?\n",
      "23it [00:00, 226.09it/s]Extracting frames based on kmeans ...\n",
      "Kmeans-quantization based extracting of frames from 0.0  seconds to 0.23  seconds.\n",
      "Extracting and downsampling... 68  frames from the video.\n",
      "68it [00:00, 285.07it/s]\n",
      "Kmeans clustering ... (this might take a while)\n",
      "Do you want to extract (perhaps additional) frames for video: J:\\jmgre\\Documents\\Senior Project\\DeepLabCut\\BlinkModeling-GIW-2020-11-20\\videos\\Person_17_Trial_1_Eye_1_Blink_3.avi ?\n",
      "37it [00:00, 363.70it/s]Extracting frames based on kmeans ...\n",
      "Kmeans-quantization based extracting of frames from 0.0  seconds to 0.21  seconds.\n",
      "Extracting and downsampling... 64  frames from the video.\n",
      "64it [00:00, 292.33it/s]\n",
      "Kmeans clustering ... (this might take a while)\n",
      "Do you want to extract (perhaps additional) frames for video: J:\\jmgre\\Documents\\Senior Project\\DeepLabCut\\BlinkModeling-GIW-2020-11-20\\videos\\Person_17_Trial_2_Eye_0_Blink_24.avi ?\n",
      "36it [00:00, 350.45it/s]Extracting frames based on kmeans ...\n",
      "Kmeans-quantization based extracting of frames from 0.0  seconds to 0.24  seconds.\n",
      "Extracting and downsampling... 72  frames from the video.\n",
      "72it [00:00, 337.34it/s]\n",
      "Kmeans clustering ... (this might take a while)\n",
      "Do you want to extract (perhaps additional) frames for video: J:\\jmgre\\Documents\\Senior Project\\DeepLabCut\\BlinkModeling-GIW-2020-11-20\\videos\\Person_17_Trial_3_Eye_1_Blink_5.avi ?\n",
      "36it [00:00, 353.89it/s]Extracting frames based on kmeans ...\n",
      "Kmeans-quantization based extracting of frames from 0.0  seconds to 0.23  seconds.\n",
      "Extracting and downsampling... 68  frames from the video.\n",
      "68it [00:00, 351.45it/s]\n",
      "Kmeans clustering ... (this might take a while)\n",
      "Do you want to extract (perhaps additional) frames for video: J:\\jmgre\\Documents\\Senior Project\\DeepLabCut\\BlinkModeling-GIW-2020-11-20\\videos\\Person_18_Trial_1_Eye_0_Blink_32.avi ?\n",
      "38it [00:00, 373.55it/s]Extracting frames based on kmeans ...\n",
      "Kmeans-quantization based extracting of frames from 0.0  seconds to 0.25  seconds.\n",
      "Extracting and downsampling... 74  frames from the video.\n",
      "74it [00:00, 372.85it/s]\n",
      "Kmeans clustering ... (this might take a while)\n",
      "Do you want to extract (perhaps additional) frames for video: J:\\jmgre\\Documents\\Senior Project\\DeepLabCut\\BlinkModeling-GIW-2020-11-20\\videos\\Person_18_Trial_1_Eye_1_Blink_43.avi ?\n",
      "38it [00:00, 373.55it/s]Extracting frames based on kmeans ...\n",
      "Kmeans-quantization based extracting of frames from 0.0  seconds to 0.22  seconds.\n",
      "Extracting and downsampling... 66  frames from the video.\n",
      "66it [00:00, 321.25it/s]\n",
      "Kmeans clustering ... (this might take a while)\n",
      "Do you want to extract (perhaps additional) frames for video: J:\\jmgre\\Documents\\Senior Project\\DeepLabCut\\BlinkModeling-GIW-2020-11-20\\videos\\Person_18_Trial_4_Eye_0_Blink_7.avi ?\n",
      "69it [00:00, 387.57it/s]Extracting frames based on kmeans ...\n",
      "Kmeans-quantization based extracting of frames from 0.0  seconds to 0.23  seconds.\n",
      "Extracting and downsampling... 69  frames from the video.\n",
      "Kmeans clustering ... (this might take a while)\n",
      "\n",
      "Do you want to extract (perhaps additional) frames for video: J:\\jmgre\\Documents\\Senior Project\\DeepLabCut\\BlinkModeling-GIW-2020-11-20\\videos\\Person_18_Trial_4_Eye_1_Blink_7.avi ?\n",
      "32it [00:00, 319.23it/s]Extracting frames based on kmeans ...\n",
      "Kmeans-quantization based extracting of frames from 0.0  seconds to 0.23  seconds.\n",
      "Extracting and downsampling... 69  frames from the video.\n",
      "69it [00:00, 335.82it/s]\n",
      "Kmeans clustering ... (this might take a while)\n",
      "Do you want to extract (perhaps additional) frames for video: J:\\jmgre\\Documents\\Senior Project\\DeepLabCut\\BlinkModeling-GIW-2020-11-20\\videos\\Person_19_Trial_2_Eye_0_Blink_3.avi ?\n",
      "31it [00:00, 307.75it/s]Extracting frames based on kmeans ...\n",
      "Kmeans-quantization based extracting of frames from 0.0  seconds to 0.28  seconds.\n",
      "Extracting and downsampling... 83  frames from the video.\n",
      "83it [00:00, 325.07it/s]\n",
      "Kmeans clustering ... (this might take a while)\n",
      "Do you want to extract (perhaps additional) frames for video: J:\\jmgre\\Documents\\Senior Project\\DeepLabCut\\BlinkModeling-GIW-2020-11-20\\videos\\Person_19_Trial_2_Eye_1_Blink_16.avi ?\n",
      "41it [00:00, 349.84it/s]Extracting frames based on kmeans ...\n",
      "Kmeans-quantization based extracting of frames from 0.0  seconds to 0.14  seconds.\n",
      "Extracting and downsampling... 41  frames from the video.\n",
      "Kmeans clustering ... (this might take a while)\n",
      "\n",
      "Do you want to extract (perhaps additional) frames for video: J:\\jmgre\\Documents\\Senior Project\\DeepLabCut\\BlinkModeling-GIW-2020-11-20\\videos\\Person_19_Trial_3_Eye_0_Blink_14.avi ?\n",
      "39it [00:00, 387.17it/s]Extracting frames based on kmeans ...\n",
      "Kmeans-quantization based extracting of frames from 0.0  seconds to 0.24  seconds.\n",
      "Extracting and downsampling... 72  frames from the video.\n",
      "72it [00:00, 381.97it/s]\n",
      "Kmeans clustering ... (this might take a while)\n",
      "Do you want to extract (perhaps additional) frames for video: J:\\jmgre\\Documents\\Senior Project\\DeepLabCut\\BlinkModeling-GIW-2020-11-20\\videos\\Person_19_Trial_3_Eye_1_Blink_7.avi ?\n",
      "47it [00:00, 336.61it/s]Extracting frames based on kmeans ...\n",
      "Kmeans-quantization based extracting of frames from 0.0  seconds to 0.16  seconds.\n",
      "Extracting and downsampling... 47  frames from the video.\n",
      "Kmeans clustering ... (this might take a while)\n",
      "\n",
      "Do you want to extract (perhaps additional) frames for video: J:\\jmgre\\Documents\\Senior Project\\DeepLabCut\\BlinkModeling-GIW-2020-11-20\\videos\\Person_20_Trial_1_Eye_0_Blink_35.avi ?\n",
      "51it [00:00, 329.92it/s]Extracting frames based on kmeans ...\n",
      "Kmeans-quantization based extracting of frames from 0.0  seconds to 0.17  seconds.\n",
      "Extracting and downsampling... 51  frames from the video.\n",
      "Kmeans clustering ... (this might take a while)\n",
      "\n",
      "Do you want to extract (perhaps additional) frames for video: J:\\jmgre\\Documents\\Senior Project\\DeepLabCut\\BlinkModeling-GIW-2020-11-20\\videos\\Person_20_Trial_3_Eye_0_Blink_22.avi ?\n",
      "60it [00:00, 373.67it/s]Extracting frames based on kmeans ...\n",
      "Kmeans-quantization based extracting of frames from 0.0  seconds to 0.2  seconds.\n",
      "Extracting and downsampling... 60  frames from the video.\n",
      "Kmeans clustering ... (this might take a while)\n",
      "\n",
      "Do you want to extract (perhaps additional) frames for video: J:\\jmgre\\Documents\\Senior Project\\DeepLabCut\\BlinkModeling-GIW-2020-11-20\\videos\\Person_20_Trial_3_Eye_1_Blink_20.avi ?\n",
      "58it [00:00, 368.07it/s]Extracting frames based on kmeans ...\n",
      "Kmeans-quantization based extracting of frames from 0.0  seconds to 0.19  seconds.\n",
      "Extracting and downsampling... 58  frames from the video.\n",
      "Kmeans clustering ... (this might take a while)\n",
      "\n",
      "Do you want to extract (perhaps additional) frames for video: J:\\jmgre\\Documents\\Senior Project\\DeepLabCut\\BlinkModeling-GIW-2020-11-20\\videos\\Person_22_Trial_3_Eye_1_Blink_92.avi ?\n",
      "25it [00:00, 249.40it/s]Extracting frames based on kmeans ...\n",
      "Kmeans-quantization based extracting of frames from 0.0  seconds to 0.52  seconds.\n",
      "Extracting and downsampling... 157  frames from the video.\n",
      "157it [00:00, 332.45it/s]\n",
      "Kmeans clustering ... (this might take a while)\n",
      "Do you want to extract (perhaps additional) frames for video: J:\\jmgre\\Documents\\Senior Project\\DeepLabCut\\BlinkModeling-GIW-2020-11-20\\videos\\Person_22_Trial_4_Eye_1_Blink_31.avi ?\n",
      "67it [00:00, 375.27it/s]Extracting frames based on kmeans ...\n",
      "Kmeans-quantization based extracting of frames from 0.0  seconds to 0.22  seconds.\n",
      "Extracting and downsampling... 67  frames from the video.\n",
      "Kmeans clustering ... (this might take a while)\n",
      "\n",
      "Frames were successfully extracted, for the videos of interest.\n",
      "\n",
      "You can now label the frames using the function 'label_frames' (if you extracted enough frames for all videos).\n"
     ]
    }
   ],
   "source": [
    "%matplotlib inline\n",
    "\n",
    "deeplabcut.extract_frames(path_config_file)"
   ]
  },
  {
   "source": [
    "## Label frames\n",
    "Once successfully extracted, each of the frames needs to be labeled. For this project, I will be labeling the upper eyelid, lower eyelid, and pupil. The labeling scheme is defined in the config.yaml file. Both eyelids will have 15 markers labeled left to right. The markers should line up along the edge of the eyeball and the eyelid. The pupil will be labeled with markers in each of the cardinal directions."
   ],
   "cell_type": "markdown",
   "metadata": {}
  },
  {
   "cell_type": "code",
   "execution_count": 5,
   "metadata": {},
   "outputs": [
    {
     "output_type": "stream",
     "name": "stdout",
     "text": [
      "You can now check the labels, using 'check_labels' before proceeding. Then, you can use the function 'create_training_dataset' to create the training dataset.\n"
     ]
    }
   ],
   "source": [
    "%gui wx\n",
    "\n",
    "deeplabcut.label_frames(path_config_file)"
   ]
  },
  {
   "source": [
    "### Check the labels\n",
    "It is worth checking the labels before training to be sure everything goes properly. The DLC check_labels function checks to be sure the labels were created and stored properly."
   ],
   "cell_type": "markdown",
   "metadata": {}
  },
  {
   "cell_type": "code",
   "execution_count": null,
   "metadata": {},
   "outputs": [],
   "source": [
    "deeplabcut.check_labels(path_config_file) #this creates a subdirectory with the frames + your labels"
   ]
  },
  {
   "cell_type": "code",
   "execution_count": null,
   "metadata": {},
   "outputs": [],
   "source": [
    "### Create Training dataset\n"
   ]
  },
  {
   "cell_type": "code",
   "execution_count": null,
   "metadata": {},
   "outputs": [],
   "source": [
    "deeplabcut.create_training_dataset(path_config_file)"
   ]
  },
  {
   "source": [
    "## Start training:\n",
    "deeplabcut.train_network?"
   ],
   "cell_type": "markdown",
   "metadata": {}
  },
  {
   "cell_type": "code",
   "execution_count": null,
   "metadata": {},
   "outputs": [],
   "source": [
    "deeplabcut.train_network(path_config_file)"
   ]
  },
  {
   "source": [
    "## Evaluate network:\n",
    "Now that we have trained our network, it is time to evaluate it's performance. DLC has a built in function for evaluating the network. \n",
    "\n",
    "deeplabcut.evaluate_network?\n",
    "\n",
    "There are also a few optional steps we can take here including extracting outliers, refining the labels, and retraining the network. These steps should be referenced by the DLC documentation."
   ],
   "cell_type": "markdown",
   "metadata": {}
  },
  {
   "cell_type": "code",
   "execution_count": null,
   "metadata": {},
   "outputs": [],
   "source": [
    "deeplabcut.evaluate_network(path_config_file, plotting=True)"
   ]
  },
  {
   "source": [
    "## Analyze new video\n",
    "Now that we have a model that we are happy with, we can use it to analyze new eye tracking videos.\n",
    "\n",
    "The results are stored in the same path as the input video."
   ],
   "cell_type": "markdown",
   "metadata": {}
  },
  {
   "cell_type": "code",
   "execution_count": null,
   "metadata": {},
   "outputs": [],
   "source": [
    "videofile_path = ['videos/video3.avi','videos/video4.avi'] #Enter a folder OR a list of videos to analyze.\n",
    "\n",
    "deeplabcut.analyze_videos(path_config_file,videofile_path, videotype='.avi')"
   ]
  },
  {
   "source": [
    "## Create labeled video (optional)\n",
    "To illustrate the results of our model on the new video, DLC provides a function to produce videos with the markers overlaid. There are a ton of options they give us for creating these videos!"
   ],
   "cell_type": "markdown",
   "metadata": {}
  },
  {
   "cell_type": "code",
   "execution_count": null,
   "metadata": {},
   "outputs": [],
   "source": [
    "deeplabcut.create_labeled_video?"
   ]
  },
  {
   "cell_type": "code",
   "execution_count": null,
   "metadata": {},
   "outputs": [],
   "source": [
    "deeplabcut.create_labeled_video(path_config_file,videofile_path)"
   ]
  },
  {
   "source": [
    "## Fit polynomial to eyelids\n",
    "DeepLabCut will output a spreadsheet with each bodypart found and it's x and y coordinates. Using these points, we can fit a polynomial to each of the eyelids in each frame."
   ],
   "cell_type": "markdown",
   "metadata": {}
  },
  {
   "cell_type": "code",
   "execution_count": null,
   "metadata": {},
   "outputs": [],
   "source": [
    "import csv\n",
    "\n"
   ]
  },
  {
   "source": [
    "## Calculate Blink Statistics\n",
    "\n",
    "\n",
    "\n",
    "### Percent closure / Blink amplitude\n",
    "\n"
   ],
   "cell_type": "markdown",
   "metadata": {}
  },
  {
   "cell_type": "code",
   "execution_count": null,
   "metadata": {},
   "outputs": [],
   "source": []
  },
  {
   "source": [
    "### Blink frequency (requires time)"
   ],
   "cell_type": "markdown",
   "metadata": {}
  },
  {
   "source": [],
   "cell_type": "code",
   "metadata": {},
   "execution_count": null,
   "outputs": []
  },
  {
   "source": [
    "### Blink Duration (requires time)"
   ],
   "cell_type": "markdown",
   "metadata": {}
  },
  {
   "cell_type": "code",
   "execution_count": null,
   "metadata": {},
   "outputs": [],
   "source": []
  },
  {
   "source": [
    "## Output for RIT-eyes\n",
    "What will we actually be giving to RIT eyes so that the eyelids can be moving in blender similar to how we describe the shape in the video?"
   ],
   "cell_type": "markdown",
   "metadata": {}
  },
  {
   "cell_type": "code",
   "execution_count": null,
   "metadata": {},
   "outputs": [],
   "source": []
  },
  {
   "cell_type": "code",
   "execution_count": null,
   "metadata": {},
   "outputs": [],
   "source": []
  }
 ],
 "metadata": {
  "kernelspec": {
   "name": "python3",
   "display_name": "Python 3.7.7 64-bit ('DLC-GPU': conda)",
   "metadata": {
    "interpreter": {
     "hash": "e9fdffd969e677f5d620684da454766543548930fb13292fe1be38cf15475f6d"
    }
   }
  },
  "language_info": {
   "codemirror_mode": {
    "name": "ipython",
    "version": 3
   },
   "file_extension": ".py",
   "mimetype": "text/x-python",
   "name": "python",
   "nbconvert_exporter": "python",
   "pygments_lexer": "ipython3",
   "version": "3.7.7-final"
  }
 },
 "nbformat": 4,
 "nbformat_minor": 4
}